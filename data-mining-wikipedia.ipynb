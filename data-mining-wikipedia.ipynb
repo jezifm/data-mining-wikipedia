{
 "cells": [
  {
   "cell_type": "code",
   "execution_count": 1,
   "metadata": {
    "collapsed": false
   },
   "outputs": [],
   "source": [
    "from BeautifulSoup import BeautifulSoup\n",
    "from collections import deque\n",
    "import logging\n",
    "import numpy as np\n",
    "import pandas as pd\n",
    "import re\n",
    "import urllib2\n",
    "import os"
   ]
  },
  {
   "cell_type": "code",
   "execution_count": 2,
   "metadata": {
    "collapsed": false
   },
   "outputs": [],
   "source": [
    "host = 'https://en.wikipedia.org'\n",
    "url_path = '/wiki/Data_science'\n",
    "MAX_DEGREE = 5\n",
    "\n",
    "# logs\n",
    "logger = logging.getLogger(__name__)\n",
    "logger.setLevel(logging.INFO)\n",
    "handler = logging.FileHandler('scrap.log')\n",
    "handler.setLevel(logging.INFO)\n",
    "formatter = logging.Formatter('%(asctime)s - %(name)s - %(levelname)s - %(message)s')\n",
    "handler.setFormatter(formatter)\n",
    "logger.addHandler(handler)"
   ]
  },
  {
   "cell_type": "code",
   "execution_count": 3,
   "metadata": {
    "collapsed": false
   },
   "outputs": [],
   "source": [
    "def clean_url(url):\n",
    "    return re.sub('[^\\w]+', '', url)\n",
    "\n",
    "def get_page(url):\n",
    "    page = None\n",
    "    file_path = 'cache/{url}'.format(url=clean_url(url))\n",
    "    if not os.path.isfile(file_path):\n",
    "        with open(file_path, 'w') as f:\n",
    "            page = urllib2.urlopen('{host}{url_path}'.format(host=host, url_path=url_path)).read()\n",
    "            f.write(page)\n",
    "    with open(file_path, 'r') as f:\n",
    "        page = f.read()\n",
    "    return page\n",
    "\n",
    "\n",
    "def get_links(url):\n",
    "    page = get_page(url)\n",
    "    soup = BeautifulSoup(page)\n",
    "    soup.prettify()\n",
    "    return [anchor['href'] \n",
    "            for anchor in soup.findAll('a', href=True) \n",
    "            if re.match(r'^/wiki/\\w+$', anchor['href'])]"
   ]
  },
  {
   "cell_type": "code",
   "execution_count": null,
   "metadata": {
    "collapsed": false
   },
   "outputs": [],
   "source": [
    "data = []\n",
    "visited_urls = []\n",
    "target_urls = deque([(url_path, 0)])"
   ]
  },
  {
   "cell_type": "code",
   "execution_count": null,
   "metadata": {
    "collapsed": false,
    "scrolled": false
   },
   "outputs": [],
   "source": [
    "while target_urls:\n",
    "    url, degree = target_urls.pop()    \n",
    "    if degree <= MAX_DEGREE:\n",
    "        logger.info('Degree: {degree}, URL: {url}'.format(degree=degree, url=url))\n",
    "        visited_urls.append(url)\n",
    "        for link in get_links('{host}{url}'.format(host=host, url=url)):\n",
    "            data.append((url, link, degree))\n",
    "            if link not in visited_urls and link not in [i for i, _ in target_urls]:\n",
    "                target_urls.append((link, degree+1))"
   ]
  },
  {
   "cell_type": "code",
   "execution_count": null,
   "metadata": {
    "collapsed": false
   },
   "outputs": [],
   "source": [
    "pd.DataFrame(data)"
   ]
  },
  {
   "cell_type": "code",
   "execution_count": null,
   "metadata": {
    "collapsed": true
   },
   "outputs": [],
   "source": []
  }
 ],
 "metadata": {
  "kernelspec": {
   "display_name": "Python 2",
   "language": "python",
   "name": "python2"
  },
  "language_info": {
   "codemirror_mode": {
    "name": "ipython",
    "version": 2
   },
   "file_extension": ".py",
   "mimetype": "text/x-python",
   "name": "python",
   "nbconvert_exporter": "python",
   "pygments_lexer": "ipython2",
   "version": "2.7.11"
  }
 },
 "nbformat": 4,
 "nbformat_minor": 0
}
